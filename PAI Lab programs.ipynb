{
 "cells": [
  {
   "attachments": {},
   "cell_type": "markdown",
   "metadata": {},
   "source": [
    "AI Lab Programs \n",
    "Program 1:DFS\n"
   ]
  },
  {
   "cell_type": "code",
   "execution_count": 9,
   "metadata": {},
   "outputs": [
    {
     "name": "stdout",
     "output_type": "stream",
     "text": [
      "the path is as follows \n",
      "(0,0)\n",
      "(5,0)\n",
      "(5,4)\n",
      "(0,4)\n",
      "(4,0)\n",
      "(4,4)\n",
      "(5,3)\n",
      "(0,3)\n"
     ]
    },
    {
     "data": {
      "text/plain": [
       "True"
      ]
     },
     "execution_count": 9,
     "metadata": {},
     "output_type": "execute_result"
    }
   ],
   "source": [
    "from collections   import defaultdict \n",
    "visited =defaultdict(lambda:False)\n",
    "j1,j2,l=0,0,0\n",
    "\n",
    "def waterjug(x,y):\n",
    "    global j1,j2,l\n",
    "    if (x==l and y==0)or(y==l and x==0):\n",
    "        print('(',x,',',y,')',sep='')\n",
    "        return True \n",
    "    if visited[(x,y)]==False:\n",
    "        print('(',x,',',y,')',sep='')\n",
    "        visited[(x,y)]=True\n",
    "        return (waterjug(0,y) \n",
    "                or waterjug(x,0)\n",
    "                or waterjug(j1,y)\n",
    "                or waterjug(x,j2)\n",
    "                or waterjug(x+min(y,(j1-x)),y-min(y,(j1-x)))\n",
    "                or waterjug(x-min(x,(j2-y)),y+min(x,(j2-y))))\n",
    "    else:\n",
    "        return False\n",
    "j1=5\n",
    "j2=4\n",
    "l=3\n",
    "\n",
    "print('the path is as follows ')\n",
    "waterjug(0,0)"
   ]
  },
  {
   "attachments": {},
   "cell_type": "markdown",
   "metadata": {},
   "source": [
    "program 2:BFS\n"
   ]
  },
  {
   "cell_type": "code",
   "execution_count": 10,
   "metadata": {},
   "outputs": [
    {
     "name": "stdout",
     "output_type": "stream",
     "text": [
      "jug1\tjug2\n",
      "0\t0\n",
      "3\t0\n",
      "0\t3\n",
      "3\t3\n",
      "1\t5\n",
      "0\t1\n",
      "3\t1\n",
      "0\t4\n"
     ]
    }
   ],
   "source": [
    "def pour(jug1,jug2):\n",
    "    max1,max2,fill=3,5,4\n",
    "    print('%d\\t%d'%(jug1,jug2))\n",
    "    if jug2==fill:\n",
    "        return\n",
    "    elif jug2==max2:\n",
    "        pour(0,jug1)\n",
    "    elif jug2==0 and jug1!=0:\n",
    "        pour(0,jug1)\n",
    "    elif jug1==fill:\n",
    "        pour(jug1,0)\n",
    "    elif jug1<max1:\n",
    "        pour(max1,jug2)\n",
    "    elif jug1<(max2-jug2):\n",
    "        pour(0,(jug1+jug2))\n",
    "    else:\n",
    "        pour(jug1-(max2-jug2),jug2+(max2-jug2))\n",
    "print('jug1\\tjug2')\n",
    "pour(0,0)\n"
   ]
  },
  {
   "attachments": {},
   "cell_type": "markdown",
   "metadata": {},
   "source": [
    "Program 3:AO* "
   ]
  },
  {
   "cell_type": "code",
   "execution_count": 15,
   "metadata": {},
   "outputs": [
    {
     "name": "stdout",
     "output_type": "stream",
     "text": [
      "graph-1\n",
      "PROCESSING NODE : d\n",
      "-----------------------------------------------------------------------------------------\n",
      "10 ['e', 'f']\n",
      "\n",
      "PROCESSING NODE : e\n",
      "-----------------------------------------------------------------------------------------\n",
      "0 []\n",
      "\n",
      "PROCESSING NODE : d\n",
      "-----------------------------------------------------------------------------------------\n",
      "6 ['e', 'f']\n",
      "\n",
      "PROCESSING NODE : f\n",
      "-----------------------------------------------------------------------------------------\n",
      "0 []\n",
      "\n",
      "PROCESSING NODE : d\n",
      "-----------------------------------------------------------------------------------------\n",
      "2 ['e', 'f']\n",
      "\n",
      "FOR THE SOLUTION, TRAVERSE THE GRAPH FROM THE START NODE: d\n",
      "------------------------------------------------------------\n",
      "{'e': [], 'f': [], 'd': ['e', 'f']}\n",
      "------------------------------------------------------------\n"
     ]
    }
   ],
   "source": [
    "#pip install heuristicsearch\n",
    "from heuristicsearch.ao_star import AOStar\n",
    "print('graph-1')\n",
    "heuristic={'a':1,'b':6,'c':12,'d':10,'e':4,'f':4,'g':5,'h':7}\n",
    "adj_list={'a':[[('b',1),('c',1)],[('d',1)]],\n",
    "          'b':[[('g',1)],[('h',1)]],\n",
    "          'd':[[('e',1),('f',1)]]\n",
    "}\n",
    "graph=AOStar(adj_list,heuristic,'d')\n",
    "graph.applyAOStar()\n"
   ]
  },
  {
   "attachments": {},
   "cell_type": "markdown",
   "metadata": {},
   "source": [
    "Program 4:N_Queens \n"
   ]
  },
  {
   "cell_type": "code",
   "execution_count": 29,
   "metadata": {},
   "outputs": [
    {
     "name": "stdout",
     "output_type": "stream",
     "text": [
      "enter the number of queens: \n",
      "[0, 0, 0]\n",
      "[0, 0, 0]\n",
      "[0, 0, 0]\n"
     ]
    }
   ],
   "source": [
    "print('enter the number of queens: ')\n",
    "n=int(input())\n",
    "board=[[0]*n for i in range(n)]\n",
    "\n",
    "def attack(i,j):\n",
    "    for k in range(0,n):\n",
    "        if board[i][k]==1 or board[k][j]==1:\n",
    "            return True \n",
    "    for k in range(0,n):\n",
    "        for l in range(0,n):\n",
    "            if (k+l==i+j) or (k-l==i-j):\n",
    "                if board[k][l]==1:\n",
    "                    return True\n",
    "    return False\n",
    "\n",
    "def n_queens(N):\n",
    "    if N==0:\n",
    "        return True\n",
    "    for i in range(0,n):\n",
    "        for j in range(0,n):\n",
    "            if(not(attack(i,j))) and (board[i][j]!=1):\n",
    "                board[i][j]=1\n",
    "                if n_queens(N-1)==True:\n",
    "                    return True\n",
    "                board[i][j]=0\n",
    "    return False\n",
    "n_queens(n)\n",
    "for i in board:\n",
    "    print(i)\n",
    "\n"
   ]
  },
  {
   "attachments": {},
   "cell_type": "markdown",
   "metadata": {},
   "source": [
    "Program 5:Travelling Salesman Problem"
   ]
  },
  {
   "cell_type": "code",
   "execution_count": 32,
   "metadata": {},
   "outputs": [
    {
     "name": "stdout",
     "output_type": "stream",
     "text": [
      "70\n"
     ]
    }
   ],
   "source": [
    "from sys import maxsize\n",
    "from itertools import permutations\n",
    "v=4\n",
    "\n",
    "def travellingsalesmanproblem(graph,s):\n",
    "    vertex=[]\n",
    "    for i in range(v):\n",
    "        if i!=s:\n",
    "            vertex.append(i)\n",
    "    minpath=maxsize\n",
    "    nextpermutation=permutations(vertex)\n",
    "    for i in nextpermutation:\n",
    "        current_pathweight=0\n",
    "        k=s\n",
    "        for j in i:\n",
    "            current_pathweight+=graph[k][j]\n",
    "            k=j\n",
    "        current_pathweight+=graph[k][s]\n",
    "        minpath=min(minpath,current_pathweight)\n",
    "    return minpath\n",
    "\n",
    "if __name__ =='__main__':\n",
    "    graph=[[0,10,20,30],[10,0,20,30],[10,20,0,30],[10,20,30,0]]\n",
    "    s=0\n",
    "    print(travellingsalesmanproblem(graph,s))"
   ]
  },
  {
   "attachments": {},
   "cell_type": "markdown",
   "metadata": {},
   "source": [
    "Program 6 A:Forward Tracking  "
   ]
  },
  {
   "cell_type": "code",
   "execution_count": 41,
   "metadata": {},
   "outputs": [
    {
     "name": "stdout",
     "output_type": "stream",
     "text": [
      "[['crocks', 'frog'], ['frog', 'green']]\n"
     ]
    }
   ],
   "source": [
    "facts=[['crocks','frog'],['frog','green']]\n",
    "def forwardtrack(str,facts_list):\n",
    "    fact=[]\n",
    "    flag=True \n",
    "    while flag==True:\n",
    "        flag=False\n",
    "        for  txt in str:\n",
    "            for  a1 in facts_list:\n",
    "                if a1[0]==txt:\n",
    "                    tmp=[txt,a1[1]]\n",
    "                    if not tmp in fact:\n",
    "                        fact+=[tmp]\n",
    "                        str+=a1[1]\n",
    "                        flag =True \n",
    "    return fact\n",
    "result =forwardtrack(['crocks','frog'],facts)\n",
    "print(result)\n",
    "\n",
    "\n"
   ]
  },
  {
   "attachments": {},
   "cell_type": "markdown",
   "metadata": {},
   "source": [
    "program 6B :Backward Tracking"
   ]
  },
  {
   "cell_type": "code",
   "execution_count": 12,
   "metadata": {},
   "outputs": [
    {
     "name": "stdout",
     "output_type": "stream",
     "text": [
      "the processing goal is : c\n",
      "Found a rule with goal in the chain :\n",
      "a->('c',)\n",
      "Found a rule with goal in the chain :\n",
      "b->('c',)\n"
     ]
    },
    {
     "data": {
      "text/plain": [
       "True"
      ]
     },
     "execution_count": 12,
     "metadata": {},
     "output_type": "execute_result"
    }
   ],
   "source": [
    "class rule:\n",
    "    def __init__(self,conclusion,*premises):\n",
    "        self.conclusion=conclusion\n",
    "        self.premises=premises\n",
    "\n",
    "def backwardtrack(goal,rules):\n",
    "    agenda=[goal]\n",
    "    while agenda:\n",
    "        goal=agenda.pop(0)\n",
    "        print('the processing goal is :',goal)\n",
    "        found=False\n",
    "        for rule in rules:\n",
    "            if goal in rule.premises:\n",
    "                print('Found a rule with goal in the chain :')\n",
    "                print(rule.conclusion,rule.premises,sep='->')\n",
    "                found=True\n",
    "                for premises in rule.premises:\n",
    "                    if premises not in agenda:\n",
    "                        agenda.append(premises)\n",
    "            if not found:\n",
    "                print('No rule with goal in the chain found :')   \n",
    "                return False\n",
    "        return True\n",
    "\n",
    "rules=[rule('a','c'),rule('b','c'),rule('c','d')]\n",
    "backwardtrack('c',rules)\n",
    "\n",
    "    \n"
   ]
  },
  {
   "attachments": {},
   "cell_type": "markdown",
   "metadata": {},
   "source": [
    "Program 7 A : DNF in FOPL"
   ]
  },
  {
   "cell_type": "code",
   "execution_count": 1,
   "metadata": {},
   "outputs": [
    {
     "name": "stdout",
     "output_type": "stream",
     "text": [
      "parts:['(a ', ' b) ', ' b']\n",
      "dnfparts:[None, None, None]\n",
      "(a or b) or b\n"
     ]
    }
   ],
   "source": [
    "import re\n",
    "def dnf(formula):\n",
    "    if re.fullmatch(r'[A-Z]|~[A-Z]|()\"\"',formula):\n",
    "        return formula\n",
    "    if  'or' in formula or 'and' in formula:\n",
    "        parts=re.split(r'(?<=[^\\w])or(?=[^\\w])|(?<=[^\\w])and(?=[^\\w])',formula)\n",
    "        print(f'parts:{parts}')\n",
    "        dnfparts=[dnf(part)  for part in parts]\n",
    "        print(f'dnfparts:{dnfparts}')\n",
    "        if 'or' in formula:\n",
    "            return 'or'.join(parts)\n",
    "        elif 'and' in formula:\n",
    "            return 'and'.join(parts)\n",
    "formula='(a and b) or b'\n",
    "dnfresult=dnf(formula)\n",
    "print(dnfresult)\n",
    "        "
   ]
  },
  {
   "attachments": {},
   "cell_type": "markdown",
   "metadata": {},
   "source": [
    "program 7 B : CNF in FOPL"
   ]
  },
  {
   "cell_type": "code",
   "execution_count": null,
   "metadata": {},
   "outputs": [],
   "source": [
    "#this code is wrong\n",
    "import re \n",
    "\n",
    "def cnf(formula):\n",
    "    if re.fullmatch(r'[A-Z]|~[A-Z]',formula):\n",
    "        return formula \n",
    "    if 'or' in formula or 'and' in formula:\n",
    "        parts=re.split(r'(?<=\\()or(?=\\))|(?<=\\()and(?=\\))',formula)\n",
    "        \n",
    "        if 'or' in formula:\n",
    "            return 'or'.join(parts)\n",
    "        if 'and' in formula:\n",
    "            return 'and'.join(parts)\n",
    "formula='(a and b)or(c and d)'\n",
    "res=cnf(formula)\n",
    "print(res)"
   ]
  },
  {
   "attachments": {},
   "cell_type": "markdown",
   "metadata": {},
   "source": [
    "Program 8: Tic-Tac-Toe"
   ]
  },
  {
   "cell_type": "code",
   "execution_count": 6,
   "metadata": {},
   "outputs": [
    {
     "name": "stdout",
     "output_type": "stream",
     "text": [
      " | | \n",
      "-+-+-\n",
      " | | \n",
      "-+-+-\n",
      " | | \n",
      "Its your turn X make your move.\n",
      " | | \n",
      "-+-+-\n",
      " | | \n",
      "-+-+-\n",
      "X| | \n",
      "Its your turn O make your move.\n",
      " | | \n",
      "-+-+-\n",
      " |O| \n",
      "-+-+-\n",
      "X| | \n",
      "Its your turn X make your move.\n",
      " | | \n",
      "-+-+-\n",
      " |O| \n",
      "-+-+-\n",
      "X|X| \n",
      "Its your turn O make your move.\n",
      " | | \n",
      "-+-+-\n",
      " |O| \n",
      "-+-+-\n",
      "X|X|O\n",
      "Its your turn X make your move.\n",
      "X| | \n",
      "-+-+-\n",
      " |O| \n",
      "-+-+-\n",
      "X|X|O\n",
      "Its your turn O make your move.\n",
      "X| | \n",
      "-+-+-\n",
      "O|O| \n",
      "-+-+-\n",
      "X|X|O\n",
      "Its your turn X make your move.\n",
      "X| | \n",
      "-+-+-\n",
      "O|O|X\n",
      "-+-+-\n",
      "X|X|O\n",
      "Its your turn O make your move.\n",
      "X|O| \n",
      "-+-+-\n",
      "O|O|X\n",
      "-+-+-\n",
      "X|X|O\n",
      "Its your turn X make your move.\n",
      "*****GAME OVER*****\n",
      "ITS A TIE\n",
      "X|O|X\n",
      "-+-+-\n",
      "O|O|X\n",
      "-+-+-\n",
      "X|X|O\n",
      "Its your turn O make your move.\n"
     ]
    },
    {
     "ename": "KeyError",
     "evalue": "''",
     "output_type": "error",
     "traceback": [
      "\u001b[1;31m---------------------------------------------------------------------------\u001b[0m",
      "\u001b[1;31mKeyError\u001b[0m                                  Traceback (most recent call last)",
      "\u001b[1;32m<ipython-input-6-1be44a5cb6f3>\u001b[0m in \u001b[0;36m<module>\u001b[1;34m\u001b[0m\n\u001b[0;32m     54\u001b[0m \u001b[1;33m\u001b[0m\u001b[0m\n\u001b[0;32m     55\u001b[0m \u001b[1;32mif\u001b[0m \u001b[0m__name__\u001b[0m\u001b[1;33m==\u001b[0m\u001b[1;34m\"__main__\"\u001b[0m\u001b[1;33m:\u001b[0m\u001b[1;33m\u001b[0m\u001b[1;33m\u001b[0m\u001b[0m\n\u001b[1;32m---> 56\u001b[1;33m     \u001b[0mgame\u001b[0m\u001b[1;33m(\u001b[0m\u001b[1;33m)\u001b[0m\u001b[1;33m\u001b[0m\u001b[1;33m\u001b[0m\u001b[0m\n\u001b[0m\u001b[0;32m     57\u001b[0m \u001b[1;33m\u001b[0m\u001b[0m\n",
      "\u001b[1;32m<ipython-input-6-1be44a5cb6f3>\u001b[0m in \u001b[0;36mgame\u001b[1;34m()\u001b[0m\n\u001b[0;32m     22\u001b[0m         \u001b[0mprint\u001b[0m\u001b[1;33m(\u001b[0m\u001b[1;34m'Its your turn '\u001b[0m\u001b[1;33m+\u001b[0m\u001b[0mturn\u001b[0m\u001b[1;33m+\u001b[0m\u001b[1;34m' make your move.'\u001b[0m\u001b[1;33m)\u001b[0m\u001b[1;33m\u001b[0m\u001b[1;33m\u001b[0m\u001b[0m\n\u001b[0;32m     23\u001b[0m         \u001b[0mmove\u001b[0m\u001b[1;33m=\u001b[0m\u001b[0minput\u001b[0m\u001b[1;33m(\u001b[0m\u001b[1;33m)\u001b[0m\u001b[1;33m\u001b[0m\u001b[1;33m\u001b[0m\u001b[0m\n\u001b[1;32m---> 24\u001b[1;33m         \u001b[1;32mif\u001b[0m  \u001b[0mtheboard\u001b[0m\u001b[1;33m[\u001b[0m\u001b[0mmove\u001b[0m\u001b[1;33m]\u001b[0m \u001b[1;33m==\u001b[0m\u001b[1;34m' '\u001b[0m\u001b[1;33m:\u001b[0m\u001b[1;33m\u001b[0m\u001b[1;33m\u001b[0m\u001b[0m\n\u001b[0m\u001b[0;32m     25\u001b[0m             \u001b[0mtheboard\u001b[0m\u001b[1;33m[\u001b[0m\u001b[0mmove\u001b[0m\u001b[1;33m]\u001b[0m\u001b[1;33m=\u001b[0m\u001b[0mturn\u001b[0m\u001b[1;33m\u001b[0m\u001b[1;33m\u001b[0m\u001b[0m\n\u001b[0;32m     26\u001b[0m             \u001b[0mcount\u001b[0m\u001b[1;33m+=\u001b[0m\u001b[1;36m1\u001b[0m\u001b[1;33m\u001b[0m\u001b[1;33m\u001b[0m\u001b[0m\n",
      "\u001b[1;31mKeyError\u001b[0m: ''"
     ]
    }
   ],
   "source": [
    "theboard={\n",
    "    '7':' ','8':' ','9':' ',\n",
    "    '4':' ','5':' ','6' :' ',\n",
    "    '1':' ','2':' ','3':' '}\n",
    "\n",
    "boardkeys=[]\n",
    "for key in theboard:\n",
    "    boardkeys.append(key)\n",
    "\n",
    "def printboard(board):\n",
    "    print(board['7']+'|'+board['8']+'|'+board['9']) \n",
    "    print('-+-+-')\n",
    "    print(board['4']+'|'+board['5']+'|'+board['6']) \n",
    "    print('-+-+-')\n",
    "    print(board['1']+'|'+board['2']+'|'+board['3'])\n",
    "\n",
    "def game():\n",
    "    turn='X'\n",
    "    count=0\n",
    "    for count in range(10):\n",
    "        printboard(theboard)\n",
    "        print('Its your turn '+turn+' make your move.')\n",
    "        move=input()\n",
    "        if  theboard[move] ==' ':\n",
    "            theboard[move]=turn\n",
    "            count+=1\n",
    "        else:\n",
    "            print('Sorry that place is occupied,give an other place')\n",
    "            continue\n",
    "        if count >=5:\n",
    "            if ((theboard['7']==theboard['8']==theboard['9']!=' ')or\n",
    "            (theboard['4']==theboard['5']==theboard['6']!=' ')or\n",
    "            (theboard['1']==theboard['2']==theboard['3']!=' ')or\n",
    "            (theboard['7']==theboard['4']==theboard['1']!=' ')or\n",
    "            (theboard['8']==theboard['5']==theboard['2']!=' ')or\n",
    "            (theboard['9']==theboard['6']==theboard['3']!=' ')or\n",
    "            (theboard['1']==theboard['5']==theboard['9']!=' ')or\n",
    "            (theboard['3']==theboard['5']==theboard['7']!=' ')):\n",
    "                printboard(theboard)\n",
    "                print('*****'+turn+' won******')\n",
    "                break\n",
    "        if count==9:\n",
    "            print('*****GAME OVER*****\\nITS A TIE')\n",
    "            break\n",
    "        if turn=='X':\n",
    "            turn='O'\n",
    "        else:\n",
    "            turn='X'\n",
    "\n",
    "    restart=input('Do you wanna Play again?').upper()\n",
    "    if restart=='Y':\n",
    "        for key in boardkeys:\n",
    "            theboard[key]=' '\n",
    "            game()\n",
    "    \n",
    "if __name__==\"__main__\":   \n",
    "    game()\n",
    "\n"
   ]
  }
 ],
 "metadata": {
  "kernelspec": {
   "display_name": "base",
   "language": "python",
   "name": "python3"
  },
  "language_info": {
   "codemirror_mode": {
    "name": "ipython",
    "version": 3
   },
   "file_extension": ".py",
   "mimetype": "text/x-python",
   "name": "python",
   "nbconvert_exporter": "python",
   "pygments_lexer": "ipython3",
   "version": "3.8.8"
  },
  "orig_nbformat": 4,
  "vscode": {
   "interpreter": {
    "hash": "eb435d607014b3bdee013e8c0bafc4fffe88845505a884b16ead4b0e3431d4f7"
   }
  }
 },
 "nbformat": 4,
 "nbformat_minor": 2
}
